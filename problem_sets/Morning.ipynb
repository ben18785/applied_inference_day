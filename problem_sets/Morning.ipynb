{
 "cells": [
  {
   "cell_type": "markdown",
   "metadata": {},
   "source": [
    "# Logistic growth"
   ]
  },
  {
   "cell_type": "markdown",
   "metadata": {},
   "source": [
    "In this example, we are going to perform inference for the logistic growth model commonly used in population biology to describe resource-limited growth. The population density of a given bacteria is supposed to follow:\n",
    "\n",
    "\\begin{equation}\n",
    "\\frac{d y}{d t} = r y (1 - \\frac{y}{k})\n",
    "\\end{equation}\n",
    "\n",
    "where we assume $y(0)>0$; $r > 0$ is the initial (exponential) growth rate when resources are abundant; $\\kappa > 0$ is the carrying capacity denoting the steady-state population density."
   ]
  },
  {
   "cell_type": "markdown",
   "metadata": {},
   "source": [
    "## 1. \n",
    "Using Scipy's integrator, write a function which numerically solves the logistic equation. Plot the solution for $y(0)=5, r=0.2, \\kappa=20$ from $t=0$ to $t=40$."
   ]
  },
  {
   "cell_type": "markdown",
   "metadata": {},
   "source": [
    "## 2.\n",
    "Assume that the observed data differs from the logistic model solution according to the measurement equation:\n",
    "\n",
    "\\begin{equation}\n",
    "\\tilde y(t) \\sim \\mathcal{N}(y(t), \\sigma),\n",
    "\\end{equation}\n",
    "\n",
    "where $\\sigma >0$ controls the measurement variability. Generate 'observed' data at $t= 0, 5, 10, 15, 20, 25, 30, 35, 40$ assuming $y(0)=5, r=0.2, \\kappa=20, \\sigma=2$. Plot these data overlaid on top of the true solution."
   ]
  },
  {
   "cell_type": "markdown",
   "metadata": {},
   "source": [
    "## 3.\n",
    "The likelihood for this model is given by:\n",
    "\n",
    "\\begin{equation}\n",
    "L = \\prod_{i=1}^{N} \\frac{1}{\\sqrt{2\\pi\\sigma^2}} \\exp(-\\frac{(\\tilde y(t_i) - y(t_i))^2}{2\\sigma^2})\n",
    "\\end{equation}\n",
    "\n",
    "where $N$ is the number of observations and $y(t) = y(t|r,\\kappa, y(0))$ is the ODE solution at time $t$. Write a function which calculates the log-likelihood for given $(r, \\kappa, y(0), \\sigma)$."
   ]
  },
  {
   "cell_type": "markdown",
   "metadata": {},
   "source": [
    "## 4.\n",
    "Using the simulated data you previously generated, plot the log-likelihood as a function of $r$ holding all other parameters at their true values."
   ]
  },
  {
   "cell_type": "markdown",
   "metadata": {},
   "source": [
    "## 5.\n",
    "Plot the likelihood (not the log-likelihood as its contours are harder to distinguish) contour surface for $(r,k)$ holding all other parameters at their true values."
   ]
  },
  {
   "cell_type": "markdown",
   "metadata": {},
   "source": [
    "## 6.\n",
    "\n",
    "Assume we have priors on parameters: $r\\sim \\mathcal{N}(0.2, 0.02), \\kappa\\sim \\mathcal{N}(20, 4)$, and we fix $y(0)=5$. Generate 100 prior predictive simulations of the ODE solution $y$ and plot these. Remember, a single prior predictive simulation is obtained by sampling each parameter from its prior and (in this case) solving the ODE for this parameter set."
   ]
  },
  {
   "cell_type": "markdown",
   "metadata": {},
   "source": [
    "## 7.\n",
    "Now also allow $y(0)\\sim \\mathcal{N}(5, 1)$. How does the prior predictive distribution change? "
   ]
  },
  {
   "cell_type": "markdown",
   "metadata": {},
   "source": [
    "## 8.\n",
    "We are now going to write a random walk Metropolis sampler. The first step is to write a method which takes as input $(r,\\kappa, \\sigma)$ and proposes new values using univariate normal distributions centered at the current values. So, for example,\n",
    "\n",
    "\\begin{equation}\n",
    "r'\\sim\\mathcal{N}(r,\\tau_r)\n",
    "\\end{equation}\n",
    "\n",
    "where $\\tau_r$ is a hyperparameter of the method. Write such a function."
   ]
  },
  {
   "cell_type": "markdown",
   "metadata": {},
   "source": [
    "## 9.\n",
    "Assume priors: $r\\sim \\mathcal{N}(0.2, 0.02), \\kappa\\sim \\mathcal{N}(20, 4), \\sigma \\sim \\mathcal{N}(2, 0.2)$ and fix $y(0)=5$. Write a function that accepts as input $(r,\\kappa, \\sigma)$ and outputs the log-prior density $\\log{\\text -}p(r,\\kappa, \\sigma)$."
   ]
  },
  {
   "cell_type": "markdown",
   "metadata": {},
   "source": [
    "## 10.\n",
    " Write a function which calculates the unnormalised log-posterior (i.e. the sum of the log-prior and log-likelihood), $\\text{log-}p(r,\\kappa,\\sigma|\\text{data})$, for a given parameter set."
   ]
  },
  {
   "cell_type": "markdown",
   "metadata": {},
   "source": [
    "## 11.\n",
    "The next step is to write a function called 'step_accept' which takes as input $(r,\\kappa, \\sigma)$, proposes new values $(r',\\kappa', \\sigma')$. Then calculates the ratio:\n",
    "\n",
    "\\begin{equation}\n",
    "t = \\exp(\\text{log-}p(r',\\kappa', \\sigma'|\\text{data}) - \\text{log-}p(r,\\kappa, \\sigma|\\text{data}))\n",
    "\\end{equation}\n",
    "\n",
    "Then generates $u\\sim U(0,1)$ and does the following: if $t \\geq u$, return $(r',\\kappa',\\sigma')$; else return $(r,\\kappa,\\sigma)$."
   ]
  },
  {
   "cell_type": "markdown",
   "metadata": {},
   "source": [
    "## 12.\n",
    "Write a function which iterates 'step_accept' generating a chain of MCMC samples of $(r,\\kappa,\\sigma)$. Initialise $(r,\\kappa,\\sigma)$ using samples from the prior."
   ]
  },
  {
   "cell_type": "markdown",
   "metadata": {},
   "source": [
    "## 13.\n",
    "Assuming step sizes of $(\\tau_r=0.01,\\tau_k=1, \\tau_{\\sigma}=0.1)$, generate an MCMC sample of 1000 draws. Visualise the sampled values of $r$ over time."
   ]
  },
  {
   "cell_type": "markdown",
   "metadata": {},
   "source": [
    "## 14.\n",
    "Plot the pairwise distribution of $(r,\\kappa)$. How do the sampled values compare to the true parameters?"
   ]
  },
  {
   "cell_type": "markdown",
   "metadata": {},
   "source": [
    "## 15.\n",
    "Modify your MCMC routine to use the following half-normal distributions to sample initial points for your chains. Run four independent chains for 1000 iterations each and plot the $\\kappa$ samples over time. How long does it appear your chains be run until they reach a stationary distribution?\n",
    "\n",
    "$r \\sim \\text{half-N}(0.2, 0.1)$\n",
    "$\\kappa \\sim \\text{half-N}(0, 20, 10)$\n",
    "$\\sigma \\sim \\text{half-N}(2, 1)$\n",
    "\n",
    "Note, to do so, you can use the following function:\n",
    "\n",
    "<code>\n",
    "def truncated_normal(mu, sd):\n",
    "    myclip_a = 0\n",
    "    myclip_b = 1000000\n",
    "    my_mean = mu\n",
    "    my_std = sd\n",
    "\n",
    "    a, b = (myclip_a - my_mean) / my_std, (myclip_b - my_mean) / my_std\n",
    "    r = scipy.stats.truncnorm.rvs(a, b, loc=my_mean, scale=my_std, size=1)\n",
    "    return r[0]\n",
    "</code>"
   ]
  },
  {
   "cell_type": "markdown",
   "metadata": {},
   "source": [
    "## 16.\n",
    "Using a random subset of 100 samples from all four chains taken from after they appear to have reached the stationary distribution, draw from the posterior predictive distribution of the logistic equation solution and overlay the observations."
   ]
  }
 ],
 "metadata": {
  "kernelspec": {
   "display_name": "Python 3",
   "language": "python",
   "name": "python3"
  },
  "language_info": {
   "codemirror_mode": {
    "name": "ipython",
    "version": 3
   },
   "file_extension": ".py",
   "mimetype": "text/x-python",
   "name": "python",
   "nbconvert_exporter": "python",
   "pygments_lexer": "ipython3",
   "version": "3.9.2"
  }
 },
 "nbformat": 4,
 "nbformat_minor": 2
}
